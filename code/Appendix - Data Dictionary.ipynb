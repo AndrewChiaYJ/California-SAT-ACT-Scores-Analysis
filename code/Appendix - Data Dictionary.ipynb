{
 "cells": [
  {
   "cell_type": "markdown",
   "metadata": {},
   "source": [
    "<img src=\"http://imgur.com/1ZcRyrc.png\" style=\"float: left; margin: 20px; height: 100px\">\n",
    "\n",
    "# Project 1: Standardized Test Analysis\n",
    "\n",
    "## Appendix - Data Dictionary"
   ]
  },
  {
   "cell_type": "markdown",
   "metadata": {},
   "source": [
    "### Contents:\n",
    "- [Data Dictionary](#Data-Dictionary)\n",
    "    - [2019 SAT California](#Dataset:-2019-SAT-California)\n",
    "    - [2019 ACT California](#Dataset:-2019-ACT-California)"
   ]
  },
  {
   "cell_type": "markdown",
   "metadata": {},
   "source": [
    "## Data Dictionary"
   ]
  },
  {
   "cell_type": "markdown",
   "metadata": {},
   "source": [
    "### Dataset: 2019 SAT California"
   ]
  },
  {
   "cell_type": "markdown",
   "metadata": {},
   "source": [
    "|Feature|Type|Description|\n",
    "|:---:|:---:|:---:|\n",
    "|**school_name**|*string*|The schools in California which takes SAT/ACT exams|\n",
    "|**district_name**|*string*|The district in California which the schools takes SAT/ACT exams are from|\n",
    "|**county_name**|*string*|The county in California which the schools takes SAT/ACT exams are from|\n",
    "|**no_of_year12_enrollment**|*float*|The amount of year 12 students being enrolled to take SAT|\n",
    "|**no_of_year12_testtakers**|*float*|The amount of year 12 students that actually take the SAT test|\n",
    "|**no_of_year12_above_erw_benchmark**|*float*|The amount of year 12 students that have scores above benchmark for Evidence-based Reading and Writing, which is > 480 scores|\n",
    "|**pct_of_year12_above_erw_benchmark**|*float*|The percentage of year 12 students that have scores above benchmark for Evidence-based Reading and Writing, which is > 480 scores (units percent to two decimal places 98.10 means 98.1%)|\n",
    "|**no_of_year12_above_math_benchmark**|*float*|The amount of year 12 students that have scores above benchmark for Math, which is > 530 scores|\n",
    "|**pct_of_year12_above_math_benchmark**|*float*|The percentage of year 12 students that have scores above benchmark for Math, which is > 530 scores (units percent to two decimal places 98.10 means 98.1%)|\n",
    "|**no_of_year11_enrollment**|*float*|The amount of year 11 students being enrolled to take SAT|\n",
    "|**no_of_year11_testtakers**|*float*|The amount of year 11 students that actually take the SAT test|\n",
    "|**no_of_year11_above_erw_benchmark**|*float*|The amount of year 11 students that have scores above benchmark for Evidence-based Reading and Writing, which is > 460 scores|\n",
    "|**pct_of_year11_above_erw_benchmark**|*float*|The percentage of year 11 students that have scores above benchmark for Evidence-based Reading and Writing, which is > 460 scores (units percent to two decimal places 98.10 means 98.1%)|\n",
    "|**no_of_year11_above_math_benchmark**|*float*|The amount of year 11 students that have scores above benchmark for Math, which is > 510 scores|\n",
    "|**pct_of_year11_above_math_benchmark**|*float*|The percentage of year 11 students that have scores above benchmark for Math, which is > 510 scores (units percent to two decimal places 98.10 means 98.1%)|\n",
    "|**no_of_year12_above_both_benchmark**|*float*|The amount of year 12 students that have scores above benchmark for both Evidence-based Reading and Writing and Math, which is >480 and > 530 scores respectively|\n",
    "|**pct_of_year12_above_both_benchmark**|*float*|The percentage of year 12 students that have scores above benchmark for both Evidence-based Reading and Writing and Math, which is >480 and > 530 scores respectively (units percent to two decimal places 98.10 means 98.1%)|\n",
    "|**no_of_year11_above_both_benchmark**|*float*|The amount of year 11 students that have scores above benchmark for both Evidence-based Reading and Writing and Math, which is >460 and > 510 scores respectively|\n",
    "|**pct_of_year11_above_both_benchmark**|*float*|The percentage of year 11 students that have scores above benchmark for both Evidence-based Reading and Writing and Math, which is >460 and > 510 scores respectively (units percent to two decimal places 98.10 means 98.1%)|"
   ]
  },
  {
   "cell_type": "markdown",
   "metadata": {},
   "source": [
    "### Dataset: 2019 ACT California"
   ]
  },
  {
   "cell_type": "markdown",
   "metadata": {},
   "source": [
    "|Feature|Type|Description|\n",
    "|:---:|:---:|:---:|\n",
    "|**school_name**|*string*|The schools in California which takes SAT/ACT exams|\n",
    "|**district_name**|*string*|The district in California which the schools takes SAT/ACT exams are from|\n",
    "|**county_name**|*string*|The county in California which the schools takes SAT/ACT exams are from|\n",
    "|**no_of_year12_enrollment**|*float*|The amount of year 12 students being enrolled to take SAT|\n",
    "|**no_of_testtakers**|*float*|The amount of students that actually take the SAT test|\n",
    "|**avg_score_for_reading**|*float*|The average score achieved for students in the subject of Reading|\n",
    "|**avg_score_for_english**|*float*|The average score achieved for students in the subject of English|\n",
    "|**avg_score_for_math**|*float*|The average score achieved for students in the subject of Math|\n",
    "|**avg_score_for_science**|*float*|The average score achieved for students in the subject of Science|\n",
    "|**no_of_testtakers_having_>=21_compositescr**|*float*|The number of test takers having >= 21 scores for the composite score of all 4 subjects (Reading, English, Math, Science)|\n",
    "|**pct_of_testtakers_having_>=21_compositescr**|*float*|The percentage of test takers having >= 21 scores for the composite score of all 4 subjects (Reading, English, Math, Science)(units percent to two decimal places 98.10 means 98.1%)|"
   ]
  }
 ],
 "metadata": {
  "kernelspec": {
   "display_name": "Python 3",
   "language": "python",
   "name": "python3"
  },
  "language_info": {
   "codemirror_mode": {
    "name": "ipython",
    "version": 3
   },
   "file_extension": ".py",
   "mimetype": "text/x-python",
   "name": "python",
   "nbconvert_exporter": "python",
   "pygments_lexer": "ipython3",
   "version": "3.8.5"
  }
 },
 "nbformat": 4,
 "nbformat_minor": 4
}
